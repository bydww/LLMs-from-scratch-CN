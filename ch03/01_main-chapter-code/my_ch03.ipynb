{
 "cells": [
  {
   "cell_type": "markdown",
   "id": "46f9bc6a",
   "metadata": {},
   "source": [
    "# 第三章 编码注意力机制"
   ]
  },
  {
   "cell_type": "code",
   "execution_count": 1,
   "id": "74165a77",
   "metadata": {},
   "outputs": [],
   "source": [
    "import torch\n",
    "import torch.nn as nn"
   ]
  },
  {
   "cell_type": "markdown",
   "id": "d890cbd9",
   "metadata": {},
   "source": [
    "## 手写多头注意力机制"
   ]
  },
  {
   "cell_type": "code",
   "execution_count": 2,
   "id": "faa1c03c",
   "metadata": {},
   "outputs": [],
   "source": [
    "class MultiHeadAttention(nn.Module):\n",
    "    def __init__(self, d_model,context_length,dropout,num_heads,qkv_bias=False):\n",
    "        super().__init__()\n",
    "        self.d_model = d_model\n",
    "        self.context_length = context_length\n",
    "        self.dropout = dropout\n",
    "        self.num_heads = num_heads\n",
    "        self.qkv_bias = qkv_bias\n",
    "        assert d_model % num_heads == 0\n",
    "        self.head_dim = d_model // num_heads\n",
    "        self.q = nn.Linear(d_model,d_model,bias=qkv_bias)\n",
    "        self.k = nn.Linear(d_model,d_model,bias=qkv_bias)\n",
    "        self.v = nn.Linear(d_model,d_model,bias=qkv_bias)\n",
    "        self.out = nn.Linear(d_model,d_model,bias=qkv_bias)\n",
    "        self.attn_drop = nn.Dropout(dropout)\n",
    "        self.register_buffer('mask',torch.triu(torch.ones(context_length,context_length),diagonal=1))\n",
    "    \n",
    "    def forward(self,x):\n",
    "        b,t,d_model = x.shape\n",
    "        q = self.q(x).view(b,t,self.num_heads,self.head_dim).transpose(1,2)  # b, num_heads, t, head_dim\n",
    "        k = self.k(x).view(b,t,self.num_heads,self.head_dim).transpose(1,2)  # b, num_heads, t, head_dim\n",
    "        v = self.v(x).view(b,t,self.num_heads,self.head_dim).transpose(1,2)  # b, num_heads, t, head_dim\n",
    "        atten_scores = q @ k.transpose(-2,-1) / (self.head_dim ** 0.5)  # b, num_heads, t, t\n",
    "        atten_scores = atten_scores.masked_fill_(self.mask.bool()[:t,:t],-torch.inf)\n",
    "        atten_weights = torch.softmax(atten_scores,dim=-1)  # b, num_heads, t, t\n",
    "        atten_weights = self.attn_drop(atten_weights)\n",
    "        out = atten_weights @ v  # b, num_heads, t, head_dim\n",
    "        out = out.transpose(1,2).contiguous().view(b,t,d_model)\n",
    "        \n",
    "        return out"
   ]
  },
  {
   "cell_type": "code",
   "execution_count": 3,
   "id": "2449853a",
   "metadata": {},
   "outputs": [
    {
     "name": "stdout",
     "output_type": "stream",
     "text": [
      "tensor([[[-0.4942,  1.2725, -1.4697, -0.3354, -0.9314,  0.1962,  0.1261,\n",
      "           0.6202],\n",
      "         [-0.4942,  1.2725, -1.4697, -0.3354, -0.9314,  0.1962,  0.1261,\n",
      "           0.6202],\n",
      "         [-0.4942,  1.2725, -1.4697, -0.3354, -0.9314,  0.1962,  0.0841,\n",
      "           0.4135],\n",
      "         [-0.4942,  1.2725, -1.1023, -0.2516, -0.6985,  0.1471,  0.1261,\n",
      "           0.6202]],\n",
      "\n",
      "        [[-0.4942,  1.2725,  0.0000,  0.0000, -0.9314,  0.1962,  0.1261,\n",
      "           0.6202],\n",
      "         [-0.2471,  0.6362, -0.7348, -0.1677, -0.9314,  0.1962,  0.1261,\n",
      "           0.6202],\n",
      "         [-0.4942,  1.2725, -1.4697, -0.3354, -0.9314,  0.1962,  0.1261,\n",
      "           0.6202],\n",
      "         [-0.4942,  1.2725, -1.4697, -0.3354, -0.9314,  0.1962,  0.1261,\n",
      "           0.6202]]], grad_fn=<ViewBackward0>)\n"
     ]
    }
   ],
   "source": [
    "# 测试\n",
    "torch.manual_seed(0)\n",
    "batch = torch.ones((2,4,8))  # (b,t,d_model)\n",
    "mha = MultiHeadAttention(d_model=8,context_length=4,dropout=0.1,num_heads=4)\n",
    "output = mha(batch)\n",
    "print(output)"
   ]
  }
 ],
 "metadata": {
  "kernelspec": {
   "display_name": "czc_llm",
   "language": "python",
   "name": "python3"
  },
  "language_info": {
   "codemirror_mode": {
    "name": "ipython",
    "version": 3
   },
   "file_extension": ".py",
   "mimetype": "text/x-python",
   "name": "python",
   "nbconvert_exporter": "python",
   "pygments_lexer": "ipython3",
   "version": "3.10.18"
  }
 },
 "nbformat": 4,
 "nbformat_minor": 5
}
